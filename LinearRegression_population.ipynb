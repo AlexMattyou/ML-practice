{
  "cells": [
    {
      "cell_type": "markdown",
      "metadata": {
        "id": "view-in-github",
        "colab_type": "text"
      },
      "source": [
        "<a href=\"https://colab.research.google.com/github/AlexMattyou/ML-practice/blob/main/LinearRegression_population.ipynb\" target=\"_parent\"><img src=\"https://colab.research.google.com/assets/colab-badge.svg\" alt=\"Open In Colab\"/></a>"
      ]
    },
    {
      "cell_type": "code",
      "execution_count": 1,
      "metadata": {
        "id": "qiOQeMFSAmbH"
      },
      "outputs": [],
      "source": [
        "import numpy as np\n",
        "import pandas as pd\n",
        "import matplotlib.pyplot as plt"
      ]
    },
    {
      "cell_type": "code",
      "execution_count": 2,
      "metadata": {
        "id": "XtBj0Z9lO8u0"
      },
      "outputs": [],
      "source": [
        "data_set = pd.read_csv(\"https://data.alexmattyou.repl.co/db/IndiaPopulation8d.csv\")#dataset coppied from Kaggle\n",
        "df_y = data_set[['Population',\"Yearly Change\",\"Migrants\",\"Density\",\"Urban Population\",\"Country's Share of World Pop\",\"World Population\"]]\n",
        "df_x = data_set[['Year']]\n",
        "values = ['India Population',\"Yearly Change\",\"Migrants\",\"Density\",\"Urban Population\",\"Country's Share of World Population\",\"World Population\"]"
      ]
    },
    {
      "cell_type": "code",
      "execution_count": 3,
      "metadata": {
        "id": "Sy16ftMbGj6H"
      },
      "outputs": [],
      "source": [
        "from sklearn import linear_model\n",
        "from sklearn.model_selection import train_test_split"
      ]
    },
    {
      "cell_type": "code",
      "execution_count": 4,
      "metadata": {
        "colab": {
          "base_uri": "https://localhost:8080/"
        },
        "id": "8T9HSUrcDxEy",
        "outputId": "1092624d-8309-45a7-9115-d880fe80709b"
      },
      "outputs": [
        {
          "output_type": "execute_result",
          "data": {
            "text/plain": [
              "LinearRegression()"
            ]
          },
          "metadata": {},
          "execution_count": 4
        }
      ],
      "source": [
        "reg=linear_model.LinearRegression()\n",
        "x_train,x_test,y_train,y_test=train_test_split(df_x,df_y,test_size=0.2,random_state=4)\n",
        "reg.fit(x_train.values,y_train.values)"
      ]
    },
    {
      "cell_type": "code",
      "execution_count": null,
      "metadata": {
        "id": "tFaPV_6WV2dm",
        "colab": {
          "base_uri": "https://localhost:8080/"
        },
        "outputId": "361df82f-7a6d-490f-c56a-ec5a2307d7fd"
      },
      "outputs": [
        {
          "output_type": "stream",
          "name": "stdout",
          "text": [
            "Enter a year to predict: 2025\n",
            "India Population = 1456297027\n",
            "Yearly Change = 16913284\n",
            "Migrants = -537909\n",
            "Density = 489\n",
            "Urban Population = 490051288\n",
            "Country's Share of World Population = 18\n",
            "World Population = 8160354668\n"
          ]
        }
      ],
      "source": [
        "np.set_printoptions(formatter={'float_kind':'{:f}'.format})\n",
        "def predict():\n",
        "  year = int(input('Enter a year to predict: '))\n",
        "  if year<2020:\n",
        "    print(\"Predict any future year\")\n",
        "    predict()\n",
        "  elif year>3000:\n",
        "    print(\"You're predicting out of range\")\n",
        "    predict()\n",
        "  else:\n",
        "    p = reg.predict(np.array([[year]]))\n",
        "    for i in range(0,len(values)):\n",
        "      print(values[i],'=',int(p[0][i]))\n",
        "    predict()\n",
        "predict()"
      ]
    }
  ],
  "metadata": {
    "colab": {
      "provenance": [],
      "authorship_tag": "ABX9TyOnQUUTM+hPTHRm0x13L9Ly",
      "include_colab_link": true
    },
    "kernelspec": {
      "display_name": "Python 3",
      "name": "python3"
    },
    "language_info": {
      "name": "python"
    }
  },
  "nbformat": 4,
  "nbformat_minor": 0
}